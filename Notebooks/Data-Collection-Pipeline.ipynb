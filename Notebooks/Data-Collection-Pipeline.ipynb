{
 "cells": [
  {
   "cell_type": "markdown",
   "id": "480db4cf-c314-4428-93d4-7547fa7bc8ce",
   "metadata": {},
   "source": [
    "# Collecting Textual News Data from Twitter\n"
   ]
  },
  {
   "cell_type": "markdown",
   "id": "3462a4af-0549-4065-931f-c0b38d8e5685",
   "metadata": {},
   "source": [
    "## Importing Dependencies"
   ]
  },
  {
   "cell_type": "code",
   "execution_count": null,
   "id": "aa91b13a-5abe-4462-b404-bfc0ccbfd0ff",
   "metadata": {},
   "outputs": [],
   "source": [
    "import pandas as pd\n",
    "import tweepy\n",
    "from dotenv import load_dotenv\n",
    "import os\n",
    "load_dotenv()\n",
    "\n",
    "from scripts import getClient, searchTweets, search_tweets_next, get_user_by_id"
   ]
  },
  {
   "cell_type": "markdown",
   "id": "b08be469-a464-4379-bb3a-d98c4283522a",
   "metadata": {
    "tags": []
   },
   "source": [
    "# Calling Function to search for tweets\n"
   ]
  },
  {
   "cell_type": "code",
   "execution_count": null,
   "id": "b0bcf583-2d69-4850-a4e7-02401e684079",
   "metadata": {},
   "outputs": [],
   "source": [
    "#First Data Request\n",
    "NewsAccounts = ['factcheckdotorg', 'CNN', 'Forbes', 'BBCBreaking', 'BBC', \n",
    "                'nytimes', 'WSJ', 'washingtonpost', 'NewYorker', \n",
    "                'AP', 'Reuters', 'Bloomberg', 'ForeignAffairs', \n",
    "                'TheAtlantic', 'politico']\n",
    "\n",
    "# FakeNewsAccounts = ['TheOnion']\n",
    "\n",
    "df = searchTweets('from:{} covid-19 -is:retweet lang:en'.format(NewsAccounts[0]), 500)    \n"
   ]
  },
  {
   "cell_type": "code",
   "execution_count": null,
   "id": "ab074f5e-bbc4-4e36-a05e-6bbb7e9bf62a",
   "metadata": {},
   "outputs": [],
   "source": [
    "df.head(3)"
   ]
  },
  {
   "cell_type": "code",
   "execution_count": null,
   "id": "dc24ee49-6edc-4e95-bd32-69ae4bc679a6",
   "metadata": {},
   "outputs": [],
   "source": [
    "#Data requests adding pagination token (each request gets 500 tweets, every single execuion I have to change the token manually)\n",
    "pagination = 0\n",
    "df = search_tweets_next('from:{} covid-19 -is:retweet lang:en'.format(NewsAccounts[0]), 500, next_page_token, pagination)"
   ]
  },
  {
   "cell_type": "code",
   "execution_count": null,
   "id": "cf11ebb5-32f0-4798-8f9c-f9a2d56f43d0",
   "metadata": {},
   "outputs": [],
   "source": [
    "df.to_csv('Datasets/TrustedNews.csv')"
   ]
  },
  {
   "cell_type": "markdown",
   "id": "ad9edeca-ee81-46d5-ba84-ef6e58e43eb2",
   "metadata": {},
   "source": [
    "df"
   ]
  }
 ],
 "metadata": {
  "kernelspec": {
   "display_name": "ML-Fake-News-Pipeline",
   "language": "python",
   "name": "ml-fake-news-pipeline"
  },
  "language_info": {
   "codemirror_mode": {
    "name": "ipython",
    "version": 3
   },
   "file_extension": ".py",
   "mimetype": "text/x-python",
   "name": "python",
   "nbconvert_exporter": "python",
   "pygments_lexer": "ipython3",
   "version": "3.9.6"
  }
 },
 "nbformat": 4,
 "nbformat_minor": 5
}
